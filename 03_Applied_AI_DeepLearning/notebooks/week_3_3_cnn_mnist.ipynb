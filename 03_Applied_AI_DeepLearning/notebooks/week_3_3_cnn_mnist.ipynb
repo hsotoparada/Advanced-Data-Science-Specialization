{
 "cells": [
  {
   "cell_type": "markdown",
   "metadata": {},
   "source": [
    "### Train a convolutional neural network on the MNIST dataset\n",
    "\n",
    "#### Gets to 85.83% test accuracy after 20 epochs (there is a lot of margin for parameter tuning)."
   ]
  },
  {
   "cell_type": "code",
   "execution_count": 1,
   "metadata": {},
   "outputs": [],
   "source": [
    "from __future__ import print_function\n",
    "\n",
    "from tensorflow.keras.datasets import mnist\n",
    "from tensorflow.keras.models import Sequential\n",
    "from tensorflow.keras.layers import Dense, Dropout, Flatten, Conv2D, MaxPooling2D\n",
    "from tensorflow.keras.losses import categorical_crossentropy\n",
    "from tensorflow.keras.optimizers import RMSprop, Adadelta\n",
    "import tensorflow.keras as keras\n",
    "from tensorflow.keras import backend as K"
   ]
  },
  {
   "cell_type": "code",
   "execution_count": 2,
   "metadata": {
    "scrolled": true
   },
   "outputs": [
    {
     "name": "stdout",
     "output_type": "stream",
     "text": [
      "(60000, 28, 28, 1) train samples\n",
      "(10000, 28, 28, 1) test samples\n",
      "(60000, 10) train labels\n",
      "(10000, 10) test labels\n"
     ]
    }
   ],
   "source": [
    "batch_size = 128\n",
    "num_classes = 10\n",
    "epochs = 20\n",
    "\n",
    "# input image dimensions\n",
    "img_rows, img_cols = 28, 28\n",
    "\n",
    "# the data, shuffled and split between train and test sets\n",
    "(x_train, y_train), (x_test, y_test) = mnist.load_data()\n",
    "\n",
    "if K.image_data_format() == 'channels_first':\n",
    "    x_train = x_train.reshape(x_train.shape[0], 1, img_rows, img_cols)\n",
    "    x_test = x_test.reshape(x_test.shape[0], 1, img_rows, img_cols)\n",
    "    input_shape = (1, img_rows, img_cols)\n",
    "else:\n",
    "    x_train = x_train.reshape(x_train.shape[0], img_rows, img_cols, 1)\n",
    "    x_test = x_test.reshape(x_test.shape[0], img_rows, img_cols, 1)\n",
    "    input_shape = (img_rows, img_cols, 1)\n",
    "\n",
    "x_train = x_train.astype('float32')\n",
    "x_test = x_test.astype('float32')\n",
    "x_train /= 255\n",
    "x_test /= 255\n",
    "# print('x_train shape:', x_train.shape)\n",
    "print(x_train.shape, 'train samples')\n",
    "print(x_test.shape, 'test samples')\n",
    "\n",
    "# convert class vectors to binary class matrices\n",
    "y_train = keras.utils.to_categorical(y_train, num_classes)\n",
    "y_test = keras.utils.to_categorical(y_test, num_classes)\n",
    "print(y_train.shape, 'train labels')\n",
    "print(y_test.shape, 'test labels')"
   ]
  },
  {
   "cell_type": "code",
   "execution_count": 3,
   "metadata": {},
   "outputs": [],
   "source": [
    "model = Sequential()\n",
    "model.add(Conv2D(32, kernel_size=(3, 3), activation='relu', input_shape=input_shape))\n",
    "model.add(Conv2D(64, kernel_size=(3, 3), activation='relu'))\n",
    "model.add(MaxPooling2D(pool_size=(2, 2)))\n",
    "model.add(Dropout(0.25))\n",
    "model.add(Flatten())         \n",
    "# model.add(Dense(128, activation='relu'))\n",
    "model.add(Dense(64, activation='relu'))\n",
    "model.add(Dropout(0.5))\n",
    "model.add(Dense(num_classes, activation='softmax'))"
   ]
  },
  {
   "cell_type": "code",
   "execution_count": 4,
   "metadata": {},
   "outputs": [],
   "source": [
    "model.compile(loss=categorical_crossentropy,\n",
    "              optimizer=Adadelta(),\n",
    "              metrics=['accuracy'])"
   ]
  },
  {
   "cell_type": "code",
   "execution_count": 5,
   "metadata": {},
   "outputs": [
    {
     "name": "stdout",
     "output_type": "stream",
     "text": [
      "Model: \"sequential\"\n",
      "_________________________________________________________________\n",
      "Layer (type)                 Output Shape              Param #   \n",
      "=================================================================\n",
      "conv2d (Conv2D)              (None, 26, 26, 32)        320       \n",
      "_________________________________________________________________\n",
      "conv2d_1 (Conv2D)            (None, 24, 24, 64)        18496     \n",
      "_________________________________________________________________\n",
      "max_pooling2d (MaxPooling2D) (None, 12, 12, 64)        0         \n",
      "_________________________________________________________________\n",
      "dropout (Dropout)            (None, 12, 12, 64)        0         \n",
      "_________________________________________________________________\n",
      "flatten (Flatten)            (None, 9216)              0         \n",
      "_________________________________________________________________\n",
      "dense (Dense)                (None, 64)                589888    \n",
      "_________________________________________________________________\n",
      "dropout_1 (Dropout)          (None, 64)                0         \n",
      "_________________________________________________________________\n",
      "dense_1 (Dense)              (None, 10)                650       \n",
      "=================================================================\n",
      "Total params: 609,354\n",
      "Trainable params: 609,354\n",
      "Non-trainable params: 0\n",
      "_________________________________________________________________\n"
     ]
    }
   ],
   "source": [
    "model.summary()"
   ]
  },
  {
   "cell_type": "code",
   "execution_count": 6,
   "metadata": {},
   "outputs": [
    {
     "name": "stdout",
     "output_type": "stream",
     "text": [
      "Epoch 1/20\n",
      "469/469 [==============================] - 51s 108ms/step - loss: 2.2896 - accuracy: 0.1298 - val_loss: 2.2580 - val_accuracy: 0.2735\n",
      "Epoch 2/20\n",
      "469/469 [==============================] - 54s 115ms/step - loss: 2.2370 - accuracy: 0.2261 - val_loss: 2.1923 - val_accuracy: 0.4970\n",
      "Epoch 3/20\n",
      "469/469 [==============================] - 52s 111ms/step - loss: 2.1693 - accuracy: 0.3189 - val_loss: 2.1045 - val_accuracy: 0.5948\n",
      "Epoch 4/20\n",
      "469/469 [==============================] - 56s 120ms/step - loss: 2.0745 - accuracy: 0.3988 - val_loss: 1.9837 - val_accuracy: 0.6525\n",
      "Epoch 5/20\n",
      "469/469 [==============================] - 57s 122ms/step - loss: 1.9595 - accuracy: 0.4541 - val_loss: 1.8362 - val_accuracy: 0.6824\n",
      "Epoch 6/20\n",
      "469/469 [==============================] - 56s 119ms/step - loss: 1.8237 - accuracy: 0.4984 - val_loss: 1.6686 - val_accuracy: 0.7073\n",
      "Epoch 7/20\n",
      "469/469 [==============================] - 57s 122ms/step - loss: 1.6833 - accuracy: 0.5279 - val_loss: 1.4959 - val_accuracy: 0.7289\n",
      "Epoch 8/20\n",
      "469/469 [==============================] - 60s 128ms/step - loss: 1.5443 - accuracy: 0.5611 - val_loss: 1.3332 - val_accuracy: 0.7503\n",
      "Epoch 9/20\n",
      "469/469 [==============================] - 55s 118ms/step - loss: 1.4277 - accuracy: 0.5827 - val_loss: 1.1942 - val_accuracy: 0.7692\n",
      "Epoch 10/20\n",
      "469/469 [==============================] - 56s 118ms/step - loss: 1.3271 - accuracy: 0.6055 - val_loss: 1.0774 - val_accuracy: 0.7847\n",
      "Epoch 11/20\n",
      "469/469 [==============================] - 55s 118ms/step - loss: 1.2447 - accuracy: 0.6261 - val_loss: 0.9824 - val_accuracy: 0.7970\n",
      "Epoch 12/20\n",
      "469/469 [==============================] - 55s 118ms/step - loss: 1.1730 - accuracy: 0.6418 - val_loss: 0.9037 - val_accuracy: 0.8090\n",
      "Epoch 13/20\n",
      "469/469 [==============================] - 54s 115ms/step - loss: 1.1140 - accuracy: 0.6564 - val_loss: 0.8391 - val_accuracy: 0.8180\n",
      "Epoch 14/20\n",
      "469/469 [==============================] - 55s 117ms/step - loss: 1.0605 - accuracy: 0.6696 - val_loss: 0.7846 - val_accuracy: 0.8270\n",
      "Epoch 15/20\n",
      "469/469 [==============================] - 57s 121ms/step - loss: 1.0208 - accuracy: 0.6801 - val_loss: 0.7393 - val_accuracy: 0.8334\n",
      "Epoch 16/20\n",
      "469/469 [==============================] - 55s 117ms/step - loss: 0.9826 - accuracy: 0.6928 - val_loss: 0.7002 - val_accuracy: 0.8387\n",
      "Epoch 17/20\n",
      "469/469 [==============================] - 60s 128ms/step - loss: 0.9466 - accuracy: 0.7030 - val_loss: 0.6669 - val_accuracy: 0.8433\n",
      "Epoch 18/20\n",
      "469/469 [==============================] - 56s 120ms/step - loss: 0.9158 - accuracy: 0.7122 - val_loss: 0.6376 - val_accuracy: 0.8480\n",
      "Epoch 19/20\n",
      "469/469 [==============================] - 58s 124ms/step - loss: 0.8909 - accuracy: 0.7210 - val_loss: 0.6120 - val_accuracy: 0.8534\n",
      "Epoch 20/20\n",
      "469/469 [==============================] - 59s 125ms/step - loss: 0.8701 - accuracy: 0.7265 - val_loss: 0.5893 - val_accuracy: 0.8583\n",
      "Test loss: 0.5893263220787048\n",
      "Test accuracy: 0.858299970626831\n",
      "Training completed in 1124.6431720256805 seconds\n"
     ]
    }
   ],
   "source": [
    "import time\n",
    "\n",
    "start = time.time()\n",
    "\n",
    "history = model.fit(x_train, y_train,\n",
    "                    batch_size=batch_size,\n",
    "                    epochs=epochs,\n",
    "                    verbose=1,\n",
    "                    validation_data=(x_test, y_test))\n",
    "score = model.evaluate(x_test, y_test, verbose=0)\n",
    "print('Test loss:', score[0])\n",
    "print('Test accuracy:', score[1])\n",
    "\n",
    "print(\"Training completed in %s seconds\" % (time.time()-start))"
   ]
  }
 ],
 "metadata": {
  "kernelspec": {
   "display_name": "Python 3",
   "language": "python",
   "name": "python3"
  },
  "language_info": {
   "codemirror_mode": {
    "name": "ipython",
    "version": 3
   },
   "file_extension": ".py",
   "mimetype": "text/x-python",
   "name": "python",
   "nbconvert_exporter": "python",
   "pygments_lexer": "ipython3",
   "version": "3.6.13"
  }
 },
 "nbformat": 4,
 "nbformat_minor": 1
}
