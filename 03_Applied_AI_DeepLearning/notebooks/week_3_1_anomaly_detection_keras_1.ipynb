{
 "cells": [
  {
   "cell_type": "markdown",
   "metadata": {},
   "source": [
    "### Excercise: use autoencoder (LSTM) for anomaly detection in accelerometer based vibration dataset.\n",
    "\n",
    "####  The autoencoder tries to reconstruct the input at the output. Hence, for healthy data, it tries to reconstruct healthy data. But it will have a hard time trying to reconstruct faulty data in its neural network bottleneck (LSTM). That's how the anomaly detector works."
   ]
  },
  {
   "cell_type": "code",
   "execution_count": 1,
   "metadata": {},
   "outputs": [],
   "source": [
    "import numpy as np\n",
    "import pandas as pd\n",
    "import scipy.io as sio\n",
    "import os"
   ]
  },
  {
   "cell_type": "markdown",
   "metadata": {},
   "source": [
    "#### Download healthy data"
   ]
  },
  {
   "cell_type": "code",
   "execution_count": 2,
   "metadata": {
    "scrolled": true
   },
   "outputs": [
    {
     "name": "stdout",
     "output_type": "stream",
     "text": [
      "--2021-11-08 10:48:15--  https://github.com/IBM/skillsnetwork/raw/master/coursera_ai/week3/data/cwr_healthy/97.mat\n",
      "Resolving github.com (github.com)... 140.82.121.3\n",
      "Connecting to github.com (github.com)|140.82.121.3|:443... connected.\n",
      "HTTP request sent, awaiting response... 301 Moved Permanently\n",
      "Location: https://github.com/IBM/claimed/raw/master/coursera_ai/week3/data/cwr_healthy/97.mat [following]\n",
      "--2021-11-08 10:48:15--  https://github.com/IBM/claimed/raw/master/coursera_ai/week3/data/cwr_healthy/97.mat\n",
      "Reusing existing connection to github.com:443.\n",
      "HTTP request sent, awaiting response... 302 Found\n",
      "Location: https://raw.githubusercontent.com/IBM/claimed/master/coursera_ai/week3/data/cwr_healthy/97.mat [following]\n",
      "--2021-11-08 10:48:15--  https://raw.githubusercontent.com/IBM/claimed/master/coursera_ai/week3/data/cwr_healthy/97.mat\n",
      "Resolving raw.githubusercontent.com (raw.githubusercontent.com)... 185.199.111.133, 185.199.110.133, 185.199.108.133, ...\n",
      "Connecting to raw.githubusercontent.com (raw.githubusercontent.com)|185.199.111.133|:443... connected.\n",
      "HTTP request sent, awaiting response... 200 OK\n",
      "Length: 3903344 (3,7M) [application/octet-stream]\n",
      "Saving to: ‘97.mat’\n",
      "\n",
      "97.mat              100%[===================>]   3,72M  6,23MB/s    in 0,6s    \n",
      "\n",
      "2021-11-08 10:48:16 (6,23 MB/s) - ‘97.mat’ saved [3903344/3903344]\n",
      "\n",
      "--2021-11-08 10:48:17--  https://github.com/IBM/skillsnetwork/raw/master/coursera_ai/week3/data/cwr_healthy/98.mat\n",
      "Resolving github.com (github.com)... 140.82.121.3\n",
      "Connecting to github.com (github.com)|140.82.121.3|:443... connected.\n",
      "HTTP request sent, awaiting response... 301 Moved Permanently\n",
      "Location: https://github.com/IBM/claimed/raw/master/coursera_ai/week3/data/cwr_healthy/98.mat [following]\n",
      "--2021-11-08 10:48:17--  https://github.com/IBM/claimed/raw/master/coursera_ai/week3/data/cwr_healthy/98.mat\n",
      "Reusing existing connection to github.com:443.\n",
      "HTTP request sent, awaiting response... 302 Found\n",
      "Location: https://raw.githubusercontent.com/IBM/claimed/master/coursera_ai/week3/data/cwr_healthy/98.mat [following]\n",
      "--2021-11-08 10:48:17--  https://raw.githubusercontent.com/IBM/claimed/master/coursera_ai/week3/data/cwr_healthy/98.mat\n",
      "Resolving raw.githubusercontent.com (raw.githubusercontent.com)... 185.199.111.133, 185.199.110.133, 185.199.108.133, ...\n",
      "Connecting to raw.githubusercontent.com (raw.githubusercontent.com)|185.199.111.133|:443... connected.\n",
      "HTTP request sent, awaiting response... 200 OK\n",
      "Length: 7742720 (7,4M) [application/octet-stream]\n",
      "Saving to: ‘98.mat’\n",
      "\n",
      "98.mat              100%[===================>]   7,38M  6,69MB/s    in 1,1s    \n",
      "\n",
      "2021-11-08 10:48:18 (6,69 MB/s) - ‘98.mat’ saved [7742720/7742720]\n",
      "\n",
      "--2021-11-08 10:48:18--  https://github.com/IBM/skillsnetwork/raw/master/coursera_ai/week3/data/cwr_healthy/99.mat\n",
      "Resolving github.com (github.com)... 140.82.121.3\n",
      "Connecting to github.com (github.com)|140.82.121.3|:443... connected.\n",
      "HTTP request sent, awaiting response... 301 Moved Permanently\n",
      "Location: https://github.com/IBM/claimed/raw/master/coursera_ai/week3/data/cwr_healthy/99.mat [following]\n",
      "--2021-11-08 10:48:19--  https://github.com/IBM/claimed/raw/master/coursera_ai/week3/data/cwr_healthy/99.mat\n",
      "Reusing existing connection to github.com:443.\n",
      "HTTP request sent, awaiting response... 302 Found\n",
      "Location: https://raw.githubusercontent.com/IBM/claimed/master/coursera_ai/week3/data/cwr_healthy/99.mat [following]\n",
      "--2021-11-08 10:48:19--  https://raw.githubusercontent.com/IBM/claimed/master/coursera_ai/week3/data/cwr_healthy/99.mat\n",
      "Resolving raw.githubusercontent.com (raw.githubusercontent.com)... 185.199.111.133, 185.199.110.133, 185.199.108.133, ...\n",
      "Connecting to raw.githubusercontent.com (raw.githubusercontent.com)|185.199.111.133|:443... connected.\n",
      "HTTP request sent, awaiting response... 200 OK\n",
      "Length: 15503928 (15M) [application/octet-stream]\n",
      "Saving to: ‘99.mat’\n",
      "\n",
      "99.mat              100%[===================>]  14,79M  6,85MB/s    in 2,2s    \n",
      "\n",
      "2021-11-08 10:48:21 (6,85 MB/s) - ‘99.mat’ saved [15503928/15503928]\n",
      "\n",
      "--2021-11-08 10:48:21--  https://github.com/IBM/skillsnetwork/raw/master/coursera_ai/week3/data/cwr_healthy/100.mat\n",
      "Resolving github.com (github.com)... 140.82.121.4\n",
      "Connecting to github.com (github.com)|140.82.121.4|:443... connected.\n",
      "HTTP request sent, awaiting response... 301 Moved Permanently\n",
      "Location: https://github.com/IBM/claimed/raw/master/coursera_ai/week3/data/cwr_healthy/100.mat [following]\n",
      "--2021-11-08 10:48:21--  https://github.com/IBM/claimed/raw/master/coursera_ai/week3/data/cwr_healthy/100.mat\n",
      "Reusing existing connection to github.com:443.\n",
      "HTTP request sent, awaiting response... 302 Found\n",
      "Location: https://raw.githubusercontent.com/IBM/claimed/master/coursera_ai/week3/data/cwr_healthy/100.mat [following]\n",
      "--2021-11-08 10:48:21--  https://raw.githubusercontent.com/IBM/claimed/master/coursera_ai/week3/data/cwr_healthy/100.mat\n",
      "Resolving raw.githubusercontent.com (raw.githubusercontent.com)... 185.199.111.133, 185.199.110.133, 185.199.108.133, ...\n",
      "Connecting to raw.githubusercontent.com (raw.githubusercontent.com)|185.199.111.133|:443... connected.\n",
      "HTTP request sent, awaiting response... 200 OK\n",
      "Length: 7770624 (7,4M) [application/octet-stream]\n",
      "Saving to: ‘100.mat’\n",
      "\n",
      "100.mat             100%[===================>]   7,41M  6,72MB/s    in 1,1s    \n",
      "\n",
      "2021-11-08 10:48:23 (6,72 MB/s) - ‘100.mat’ saved [7770624/7770624]\n",
      "\n"
     ]
    }
   ],
   "source": [
    "# original site seems to be permantly offline, using cached data\n",
    "\n",
    "#!wget http://csegroups.case.edu/sites/default/files/bearingdatacenter/files/Datafiles/97.mat\n",
    "#!wget http://csegroups.case.edu/sites/default/files/bearingdatacenter/files/Datafiles/98.mat\n",
    "#!wget http://csegroups.case.edu/sites/default/files/bearingdatacenter/files/Datafiles/99.mat\n",
    "#!wget http://csegroups.case.edu/sites/default/files/bearingdatacenter/files/Datafiles/100.mat\n",
    "!wget https://github.com/IBM/skillsnetwork/raw/master/coursera_ai/week3/data/cwr_healthy/97.mat\n",
    "!wget https://github.com/IBM/skillsnetwork/raw/master/coursera_ai/week3/data/cwr_healthy/98.mat\n",
    "!wget https://github.com/IBM/skillsnetwork/raw/master/coursera_ai/week3/data/cwr_healthy/99.mat\n",
    "!wget https://github.com/IBM/skillsnetwork/raw/master/coursera_ai/week3/data/cwr_healthy/100.mat\n"
   ]
  },
  {
   "cell_type": "code",
   "execution_count": 3,
   "metadata": {},
   "outputs": [],
   "source": [
    "!mkdir cwr_healthy"
   ]
  },
  {
   "cell_type": "code",
   "execution_count": 4,
   "metadata": {},
   "outputs": [],
   "source": [
    "!mv *.mat cwr_healthy/"
   ]
  },
  {
   "cell_type": "code",
   "execution_count": 5,
   "metadata": {},
   "outputs": [
    {
     "name": "stdout",
     "output_type": "stream",
     "text": [
      "total 34M\r\n",
      "-rw-rw-r-- 1 hugo hugo  15M Nov  8 10:48 99.mat\r\n",
      "-rw-rw-r-- 1 hugo hugo 7,4M Nov  8 10:48 98.mat\r\n",
      "-rw-rw-r-- 1 hugo hugo 3,8M Nov  8 10:48 97.mat\r\n",
      "-rw-rw-r-- 1 hugo hugo 7,5M Nov  8 10:48 100.mat\r\n",
      "drwxrwxr-x 4 hugo hugo 4,0K Nov  8 10:48 ..\r\n",
      "drwxrwxr-x 2 hugo hugo 4,0K Nov  8 10:48 .\r\n"
     ]
    }
   ],
   "source": [
    "!ls -lahr cwr_healthy/"
   ]
  },
  {
   "cell_type": "code",
   "execution_count": 6,
   "metadata": {},
   "outputs": [
    {
     "data": {
      "text/plain": [
       "{'__header__': b'MATLAB 5.0 MAT-file, Platform: PCWIN, Created on: Fri Jan 28 11:25:48 2000',\n",
       " '__version__': '1.0',\n",
       " '__globals__': [],\n",
       " 'X100_DE_time': array([[ 0.01460308],\n",
       "        [ 0.05444862],\n",
       "        [ 0.10764554],\n",
       "        ...,\n",
       "        [-0.02357354],\n",
       "        [ 0.00521538],\n",
       "        [ 0.04777292]]),\n",
       " 'X100_FE_time': array([[ 0.19292182],\n",
       "        [ 0.16436364],\n",
       "        [ 0.09081091],\n",
       "        ...,\n",
       "        [ 0.10930182],\n",
       "        [ 0.05218545],\n",
       "        [-0.00452   ]]),\n",
       " 'X100RPM': array([[1725]], dtype=uint16)}"
      ]
     },
     "execution_count": 6,
     "metadata": {},
     "output_type": "execute_result"
    }
   ],
   "source": [
    "mlf = sio.loadmat('./cwr_healthy/100.mat')\n",
    "mlf"
   ]
  },
  {
   "cell_type": "markdown",
   "metadata": {},
   "source": [
    "#### Store data in dataframes"
   ]
  },
  {
   "cell_type": "code",
   "execution_count": 7,
   "metadata": {},
   "outputs": [],
   "source": [
    "def read_folder(folder):\n",
    "    data = 'dummy'\n",
    "    skip = False\n",
    "    for file in os.listdir(folder):\n",
    "        file_id = file[:-4]\n",
    "        mat_file_dict = sio.loadmat(folder+file)\n",
    "        del data\n",
    "        for key, value in mat_file_dict.items():\n",
    "            if 'DE_time' in key or 'FE_time' in key:\n",
    "                a = np.array(mat_file_dict[key])\n",
    "                try:\n",
    "                    data\n",
    "                except NameError:\n",
    "                    data = a\n",
    "                else:\n",
    "                    if (data.shape[0] != a.shape[0]):\n",
    "                        print('skipping ' + file_id)\n",
    "                        skip = True\n",
    "                        continue\n",
    "                    data = np.hstack((data,a))\n",
    "        if skip:\n",
    "            skip = False\n",
    "            continue\n",
    "        id = np.repeat(file_id, data.shape[0])\n",
    "        id.shape = (id.shape[0], 1)\n",
    "        data = np.hstack((id, data))\n",
    "        if data.shape[1] == 2:\n",
    "            zeros = np.repeat(float(0), data.shape[0])\n",
    "            zeros.shape = (data.shape[0], 1)\n",
    "            data = np.hstack((data, zeros))\n",
    "        try:\n",
    "            result\n",
    "        except NameError:\n",
    "            result = data\n",
    "        else:\n",
    "            result = np.vstack((result, data))\n",
    "    return result"
   ]
  },
  {
   "cell_type": "code",
   "execution_count": 8,
   "metadata": {},
   "outputs": [
    {
     "name": "stdout",
     "output_type": "stream",
     "text": [
      "skipping 99\n",
      "skipping 99\n"
     ]
    }
   ],
   "source": [
    "result_healthy = read_folder('./cwr_healthy/')"
   ]
  },
  {
   "cell_type": "code",
   "execution_count": 9,
   "metadata": {},
   "outputs": [
    {
     "name": "stdout",
     "output_type": "stream",
     "text": [
      "(1213484, 3)\n"
     ]
    },
    {
     "data": {
      "text/plain": [
       "array([['100', '0.014603076923076923', '0.19292181818181817'],\n",
       "       ['100', '0.05444861538461539', '0.16436363636363635'],\n",
       "       ['100', '0.10764553846153846', '0.09081090909090908'],\n",
       "       ...,\n",
       "       ['97', '-0.034630153846153845', '0.14053090909090907'],\n",
       "       ['97', '0.01668923076923077', '0.09553636363636364'],\n",
       "       ['97', '0.04693846153846153', '0.09019454545454544']], dtype='<U32')"
      ]
     },
     "execution_count": 9,
     "metadata": {},
     "output_type": "execute_result"
    }
   ],
   "source": [
    "print(result_healthy.shape)\n",
    "result_healthy"
   ]
  },
  {
   "cell_type": "markdown",
   "metadata": {},
   "source": [
    "#### Store healthy data in dataframe"
   ]
  },
  {
   "cell_type": "code",
   "execution_count": 10,
   "metadata": {},
   "outputs": [],
   "source": [
    "pdf = pd.DataFrame(result_healthy)"
   ]
  },
  {
   "cell_type": "code",
   "execution_count": 11,
   "metadata": {},
   "outputs": [],
   "source": [
    "pdf.to_csv('result_healthy_pandas.csv', header=False, index=True)"
   ]
  },
  {
   "cell_type": "code",
   "execution_count": 12,
   "metadata": {},
   "outputs": [
    {
     "name": "stdout",
     "output_type": "stream",
     "text": [
      "0,100,0.014603076923076923,0.19292181818181817\r\n",
      "1,100,0.05444861538461539,0.16436363636363635\r\n",
      "2,100,0.10764553846153846,0.09081090909090908\r\n",
      "3,100,0.13372246153846154,0.08649636363636364\r\n",
      "4,100,0.11265230769230769,0.09923454545454545\r\n",
      "5,100,0.08240307692307691,0.09307090909090908\r\n",
      "6,100,0.08699261538461538,0.08197636363636364\r\n",
      "7,100,0.11056615384615384,0.03307818181818182\r\n",
      "8,100,0.12767261538461538,0.01171090909090909\r\n",
      "9,100,0.11348676923076922,0.02218909090909091\r\n"
     ]
    }
   ],
   "source": [
    "!head result_healthy_pandas.csv"
   ]
  },
  {
   "cell_type": "markdown",
   "metadata": {},
   "source": [
    "#### Download faulty data"
   ]
  },
  {
   "cell_type": "code",
   "execution_count": null,
   "metadata": {},
   "outputs": [],
   "source": [
    "# uncommented because way too much data\n",
    "#!for url in `curl -s csegroups.case.edu/bearingdatacenter/pages/12k-drive-end-bearing-fault-data |grep mat |grep http |awk -F'href=\"' '{print $2}' |awk -F'\">' '{print $1}'`; do wget $url; done\n",
    "#!for url in `curl -s csegroups.case.edu/bearingdatacenter/pages/48k-drive-end-bearing-fault-data |grep mat |grep http |awk -F'href=\"' '{print $2}' |awk -F'\">' '{print $1}'`; do wget $url; done\n",
    "#!for url in `curl -s csegroups.case.edu/bearingdatacenter/pages/12k-fan-end-bearing-fault-data |grep mat |grep http |awk -F'href=\"' '{print $2}' |awk -F'\">' '{print $1}'`; do wget $url; done\n",
    "#!mkdir cwr_faulty\n",
    "#!mv *.mat cwr_faulty/"
   ]
  },
  {
   "cell_type": "code",
   "execution_count": 13,
   "metadata": {
    "scrolled": true
   },
   "outputs": [
    {
     "name": "stdout",
     "output_type": "stream",
     "text": [
      "--2021-11-08 10:48:53--  https://github.com/IBM/skillsnetwork/raw/master/coursera_ai/week3/data/cwr_faulty/105.mat\n",
      "Resolving github.com (github.com)... 140.82.121.4\n",
      "Connecting to github.com (github.com)|140.82.121.4|:443... connected.\n",
      "HTTP request sent, awaiting response... 301 Moved Permanently\n",
      "Location: https://github.com/IBM/claimed/raw/master/coursera_ai/week3/data/cwr_faulty/105.mat [following]\n",
      "--2021-11-08 10:48:53--  https://github.com/IBM/claimed/raw/master/coursera_ai/week3/data/cwr_faulty/105.mat\n",
      "Reusing existing connection to github.com:443.\n",
      "HTTP request sent, awaiting response... 302 Found\n",
      "Location: https://raw.githubusercontent.com/IBM/claimed/master/coursera_ai/week3/data/cwr_faulty/105.mat [following]\n",
      "--2021-11-08 10:48:54--  https://raw.githubusercontent.com/IBM/claimed/master/coursera_ai/week3/data/cwr_faulty/105.mat\n",
      "Resolving raw.githubusercontent.com (raw.githubusercontent.com)... 185.199.111.133, 185.199.110.133, 185.199.108.133, ...\n",
      "Connecting to raw.githubusercontent.com (raw.githubusercontent.com)|185.199.111.133|:443... connected.\n",
      "HTTP request sent, awaiting response... 200 OK\n",
      "Length: 2910768 (2,8M) [application/octet-stream]\n",
      "Saving to: ‘105.mat’\n",
      "\n",
      "105.mat             100%[===================>]   2,78M  6,49MB/s    in 0,4s    \n",
      "\n",
      "2021-11-08 10:48:55 (6,49 MB/s) - ‘105.mat’ saved [2910768/2910768]\n",
      "\n",
      "--2021-11-08 10:48:55--  https://github.com/IBM/skillsnetwork/raw/master/coursera_ai/week3/data/cwr_faulty/106.mat\n",
      "Resolving github.com (github.com)... 140.82.121.4\n",
      "Connecting to github.com (github.com)|140.82.121.4|:443... connected.\n",
      "HTTP request sent, awaiting response... 301 Moved Permanently\n",
      "Location: https://github.com/IBM/claimed/raw/master/coursera_ai/week3/data/cwr_faulty/106.mat [following]\n",
      "--2021-11-08 10:48:55--  https://github.com/IBM/claimed/raw/master/coursera_ai/week3/data/cwr_faulty/106.mat\n",
      "Reusing existing connection to github.com:443.\n",
      "HTTP request sent, awaiting response... 302 Found\n",
      "Location: https://raw.githubusercontent.com/IBM/claimed/master/coursera_ai/week3/data/cwr_faulty/106.mat [following]\n",
      "--2021-11-08 10:48:55--  https://raw.githubusercontent.com/IBM/claimed/master/coursera_ai/week3/data/cwr_faulty/106.mat\n",
      "Resolving raw.githubusercontent.com (raw.githubusercontent.com)... 185.199.111.133, 185.199.110.133, 185.199.108.133, ...\n",
      "Connecting to raw.githubusercontent.com (raw.githubusercontent.com)|185.199.111.133|:443... connected.\n",
      "HTTP request sent, awaiting response... 200 OK\n",
      "Length: 2928192 (2,8M) [application/octet-stream]\n",
      "Saving to: ‘106.mat’\n",
      "\n",
      "106.mat             100%[===================>]   2,79M  6,42MB/s    in 0,4s    \n",
      "\n",
      "2021-11-08 10:48:56 (6,42 MB/s) - ‘106.mat’ saved [2928192/2928192]\n",
      "\n",
      "--2021-11-08 10:48:56--  https://github.com/IBM/skillsnetwork/raw/master/coursera_ai/week3/data/cwr_faulty/107.mat\n",
      "Resolving github.com (github.com)... 140.82.121.4\n",
      "Connecting to github.com (github.com)|140.82.121.4|:443... connected.\n",
      "HTTP request sent, awaiting response... 301 Moved Permanently\n",
      "Location: https://github.com/IBM/claimed/raw/master/coursera_ai/week3/data/cwr_faulty/107.mat [following]\n",
      "--2021-11-08 10:48:56--  https://github.com/IBM/claimed/raw/master/coursera_ai/week3/data/cwr_faulty/107.mat\n",
      "Reusing existing connection to github.com:443.\n",
      "HTTP request sent, awaiting response... 302 Found\n",
      "Location: https://raw.githubusercontent.com/IBM/claimed/master/coursera_ai/week3/data/cwr_faulty/107.mat [following]\n",
      "--2021-11-08 10:48:57--  https://raw.githubusercontent.com/IBM/claimed/master/coursera_ai/week3/data/cwr_faulty/107.mat\n",
      "Resolving raw.githubusercontent.com (raw.githubusercontent.com)... 185.199.111.133, 185.199.110.133, 185.199.108.133, ...\n",
      "Connecting to raw.githubusercontent.com (raw.githubusercontent.com)|185.199.111.133|:443... connected.\n",
      "HTTP request sent, awaiting response... 200 OK\n",
      "Length: 2931672 (2,8M) [application/octet-stream]\n",
      "Saving to: ‘107.mat’\n",
      "\n",
      "107.mat             100%[===================>]   2,79M  2,58MB/s    in 1,1s    \n",
      "\n",
      "2021-11-08 10:48:58 (2,58 MB/s) - ‘107.mat’ saved [2931672/2931672]\n",
      "\n",
      "--2021-11-08 10:48:58--  https://github.com/IBM/skillsnetwork/raw/master/coursera_ai/week3/data/cwr_faulty/108.mat\n",
      "Resolving github.com (github.com)... 140.82.121.4\n",
      "Connecting to github.com (github.com)|140.82.121.4|:443... connected.\n",
      "HTTP request sent, awaiting response... 301 Moved Permanently\n",
      "Location: https://github.com/IBM/claimed/raw/master/coursera_ai/week3/data/cwr_faulty/108.mat [following]\n",
      "--2021-11-08 10:48:59--  https://github.com/IBM/claimed/raw/master/coursera_ai/week3/data/cwr_faulty/108.mat\n",
      "Reusing existing connection to github.com:443.\n",
      "HTTP request sent, awaiting response... 302 Found\n",
      "Location: https://raw.githubusercontent.com/IBM/claimed/master/coursera_ai/week3/data/cwr_faulty/108.mat [following]\n",
      "--2021-11-08 10:48:59--  https://raw.githubusercontent.com/IBM/claimed/master/coursera_ai/week3/data/cwr_faulty/108.mat\n",
      "Resolving raw.githubusercontent.com (raw.githubusercontent.com)... 185.199.111.133, 185.199.110.133, 185.199.108.133, ...\n",
      "Connecting to raw.githubusercontent.com (raw.githubusercontent.com)|185.199.111.133|:443... connected.\n",
      "HTTP request sent, awaiting response... 200 OK\n",
      "Length: 2950416 (2,8M) [application/octet-stream]\n",
      "Saving to: ‘108.mat’\n",
      "\n",
      "108.mat             100%[===================>]   2,81M  6,03MB/s    in 0,5s    \n",
      "\n",
      "2021-11-08 10:49:00 (6,03 MB/s) - ‘108.mat’ saved [2950416/2950416]\n",
      "\n"
     ]
    }
   ],
   "source": [
    "# original site seems to be permantly offline, using cached data\n",
    "# !wget http://csegroups.case.edu/sites/default/files/bearingdatacenter/files/Datafiles/105.mat\n",
    "# !wget http://csegroups.case.edu/sites/default/files/bearingdatacenter/files/Datafiles/106.mat\n",
    "# !wget http://csegroups.case.edu/sites/default/files/bearingdatacenter/files/Datafiles/107.mat\n",
    "# !wget http://csegroups.case.edu/sites/default/files/bearingdatacenter/files/Datafiles/108.mat\n",
    "!wget https://github.com/IBM/skillsnetwork/raw/master/coursera_ai/week3/data/cwr_faulty/105.mat\n",
    "!wget https://github.com/IBM/skillsnetwork/raw/master/coursera_ai/week3/data/cwr_faulty/106.mat\n",
    "!wget https://github.com/IBM/skillsnetwork/raw/master/coursera_ai/week3/data/cwr_faulty/107.mat\n",
    "!wget https://github.com/IBM/skillsnetwork/raw/master/coursera_ai/week3/data/cwr_faulty/108.mat"
   ]
  },
  {
   "cell_type": "code",
   "execution_count": 14,
   "metadata": {},
   "outputs": [],
   "source": [
    "!mkdir cwr_faulty\n",
    "!mv *.mat cwr_faulty/"
   ]
  },
  {
   "cell_type": "code",
   "execution_count": 15,
   "metadata": {},
   "outputs": [
    {
     "name": "stdout",
     "output_type": "stream",
     "text": [
      "105.mat  106.mat  107.mat  108.mat\r\n"
     ]
    }
   ],
   "source": [
    "!ls cwr_faulty/"
   ]
  },
  {
   "cell_type": "markdown",
   "metadata": {},
   "source": [
    "#### Store faulty data in dataframe"
   ]
  },
  {
   "cell_type": "code",
   "execution_count": 16,
   "metadata": {},
   "outputs": [],
   "source": [
    "result_faulty = read_folder('./cwr_faulty/')"
   ]
  },
  {
   "cell_type": "code",
   "execution_count": 17,
   "metadata": {},
   "outputs": [],
   "source": [
    "pdf = pd.DataFrame(result_faulty)"
   ]
  },
  {
   "cell_type": "code",
   "execution_count": 18,
   "metadata": {},
   "outputs": [],
   "source": [
    "pdf.to_csv('result_faulty_pandas.csv', header=False, index=True)"
   ]
  },
  {
   "cell_type": "code",
   "execution_count": 19,
   "metadata": {},
   "outputs": [
    {
     "name": "stdout",
     "output_type": "stream",
     "text": [
      "0,106,-0.2776016367265469,0.040885454545454544\r\n",
      "1,106,-0.04434479041916167,0.06985454545454545\r\n",
      "2,106,0.11760303393213573,0.3377672727272727\r\n",
      "3,106,-0.14505457085828344,0.2516818181818182\r\n",
      "4,106,-0.111430499001996,0.1088909090909091\r\n",
      "5,106,0.1309227145708583,0.07889454545454545\r\n",
      "6,106,0.03281189620758483,0.02116181818181818\r\n",
      "7,106,-0.1970338123752495,0.12861454545454545\r\n",
      "8,106,-0.07488259481037925,0.20196181818181816\r\n",
      "9,106,0.009583672654690619,-0.04684363636363636\r\n"
     ]
    }
   ],
   "source": [
    "!head result_faulty_pandas.csv"
   ]
  },
  {
   "cell_type": "markdown",
   "metadata": {},
   "source": [
    "#### Store healthy and faulty dataframes in IBM cloud"
   ]
  },
  {
   "cell_type": "code",
   "execution_count": 23,
   "metadata": {},
   "outputs": [],
   "source": [
    "# In order to obtain the correct values for \"credentias\", \"bucket_name\" and \"endpoint\" \n",
    "# please follow the tutorial at https://github.com/IBM/skillsnetwork/wiki/Cloud-Object-Storage-Setup\n",
    "\n",
    "credentials = {\n",
    "  \"apikey\": \"RHPLuwaEctTZ68Ne8FwoHZaXKujcdzApQEgCauExsIbC\",\n",
    "  \"cos_hmac_keys\": {\n",
    "    \"access_key_id\": \"a89357bb879e4a59aa015abffb144827\",\n",
    "    \"secret_access_key\": \"0d78e16cbb6fe96d6f3b55dca4c7f9b6d03ece26626b1cc3\"\n",
    "  },\n",
    "  \"endpoints\": \"https://control.cloud-object-storage.cloud.ibm.com/v2/endpoints\",\n",
    "  \"iam_apikey_description\": \"Auto-generated for key a89357bb-879e-4a59-aa01-5abffb144827\",\n",
    "  \"iam_apikey_name\": \"Service credentials-1\",\n",
    "  \"iam_role_crn\": \"crn:v1:bluemix:public:iam::::serviceRole:Writer\",\n",
    "  \"iam_serviceid_crn\": \"crn:v1:bluemix:public:iam-identity::a/3dba62a148ab4574867f8eb140c3a44e::serviceid:ServiceId-109769b1-d4d5-4997-93a1-faefc036bfa9\",\n",
    "  \"resource_instance_id\": \"crn:v1:bluemix:public:cloud-object-storage:global:a/3dba62a148ab4574867f8eb140c3a44e:643e3143-6265-453a-877a-15ae3947ef9a::\"\n",
    "}\n",
    "\n",
    "bucket_name = \"cloud-object-storage-appliedaideeplearning\"\n",
    "endpoint = \"https://s3.eu-de.cloud-object-storage.appdomain.cloud\""
   ]
  },
  {
   "cell_type": "code",
   "execution_count": 24,
   "metadata": {},
   "outputs": [],
   "source": [
    "import base64\n",
    "from ibm_botocore.client import Config\n",
    "import ibm_boto3\n",
    "import time\n",
    "\n",
    "# Create client \n",
    "client = ibm_boto3.client(\n",
    "    's3',\n",
    "    aws_access_key_id = credentials[\"cos_hmac_keys\"]['access_key_id'],\n",
    "    aws_secret_access_key = credentials[\"cos_hmac_keys\"][\"secret_access_key\"],\n",
    "    endpoint_url = endpoint\n",
    ")\n",
    "\n",
    "client.upload_file('result_healthy_pandas.csv', bucket_name, 'result_healthy_pandas.csv')\n",
    "client.upload_file('result_faulty_pandas.csv', bucket_name, 'result_faulty_pandas.csv')"
   ]
  }
 ],
 "metadata": {
  "kernelspec": {
   "display_name": "Python 3",
   "language": "python",
   "name": "python3"
  },
  "language_info": {
   "codemirror_mode": {
    "name": "ipython",
    "version": 3
   },
   "file_extension": ".py",
   "mimetype": "text/x-python",
   "name": "python",
   "nbconvert_exporter": "python",
   "pygments_lexer": "ipython3",
   "version": "3.6.13"
  }
 },
 "nbformat": 4,
 "nbformat_minor": 1
}
