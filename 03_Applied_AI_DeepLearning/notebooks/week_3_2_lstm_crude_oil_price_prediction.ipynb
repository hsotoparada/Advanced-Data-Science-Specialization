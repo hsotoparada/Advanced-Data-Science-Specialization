{
 "cells": [
  {
   "cell_type": "markdown",
   "metadata": {},
   "source": [
    "## LSTM for crude oir price prediction\n"
   ]
  },
  {
   "cell_type": "code",
   "execution_count": 1,
   "metadata": {},
   "outputs": [],
   "source": [
    "# In order to obtain the correct values for \"credentias\", \"bucket_name\" and \"endpoint\" \n",
    "# please follow the tutorial at https://github.com/IBM/skillsnetwork/wiki/Cloud-Object-Storage-Setup\n",
    "\n",
    "credentials = {\n",
    "  \"apikey\": \"RHPLuwaEctTZ68Ne8FwoHZaXKujcdzApQEgCauExsIbC\",\n",
    "  \"cos_hmac_keys\": {\n",
    "    \"access_key_id\": \"a89357bb879e4a59aa015abffb144827\",\n",
    "    \"secret_access_key\": \"0d78e16cbb6fe96d6f3b55dca4c7f9b6d03ece26626b1cc3\"\n",
    "  },\n",
    "  \"endpoints\": \"https://control.cloud-object-storage.cloud.ibm.com/v2/endpoints\",\n",
    "  \"iam_apikey_description\": \"Auto-generated for key a89357bb-879e-4a59-aa01-5abffb144827\",\n",
    "  \"iam_apikey_name\": \"Service credentials-1\",\n",
    "  \"iam_role_crn\": \"crn:v1:bluemix:public:iam::::serviceRole:Writer\",\n",
    "  \"iam_serviceid_crn\": \"crn:v1:bluemix:public:iam-identity::a/3dba62a148ab4574867f8eb140c3a44e::serviceid:ServiceId-109769b1-d4d5-4997-93a1-faefc036bfa9\",\n",
    "  \"resource_instance_id\": \"crn:v1:bluemix:public:cloud-object-storage:global:a/3dba62a148ab4574867f8eb140c3a44e:643e3143-6265-453a-877a-15ae3947ef9a::\"\n",
    "}\n",
    "\n",
    "bucket_name = \"cloud-object-storage-appliedaideeplearning\"\n",
    "endpoint = \"https://s3.eu-de.cloud-object-storage.appdomain.cloud\""
   ]
  },
  {
   "cell_type": "code",
   "execution_count": 2,
   "metadata": {},
   "outputs": [],
   "source": [
    "import base64\n",
    "from ibm_botocore.client import Config\n",
    "import ibm_boto3\n",
    "import time\n",
    "\n",
    "# Create client \n",
    "client = ibm_boto3.client(\n",
    "    's3',\n",
    "    aws_access_key_id = credentials[\"cos_hmac_keys\"]['access_key_id'],\n",
    "    aws_secret_access_key = credentials[\"cos_hmac_keys\"][\"secret_access_key\"],\n",
    "    endpoint_url=endpoint\n",
    ")\n",
    "\n",
    "client.download_file(bucket_name, 'DCOILBRENTEU.csv', 'DCOILBRENTEU.csv')"
   ]
  },
  {
   "cell_type": "code",
   "execution_count": 5,
   "metadata": {},
   "outputs": [
    {
     "name": "stdout",
     "output_type": "stream",
     "text": [
      "(8989, 2)\n"
     ]
    },
    {
     "data": {
      "text/html": [
       "<div>\n",
       "<style scoped>\n",
       "    .dataframe tbody tr th:only-of-type {\n",
       "        vertical-align: middle;\n",
       "    }\n",
       "\n",
       "    .dataframe tbody tr th {\n",
       "        vertical-align: top;\n",
       "    }\n",
       "\n",
       "    .dataframe thead th {\n",
       "        text-align: right;\n",
       "    }\n",
       "</style>\n",
       "<table border=\"1\" class=\"dataframe\">\n",
       "  <thead>\n",
       "    <tr style=\"text-align: right;\">\n",
       "      <th></th>\n",
       "      <th>DATE</th>\n",
       "      <th>DCOILBRENTEU</th>\n",
       "    </tr>\n",
       "  </thead>\n",
       "  <tbody>\n",
       "    <tr>\n",
       "      <th>0</th>\n",
       "      <td>1987-05-20</td>\n",
       "      <td>18.63</td>\n",
       "    </tr>\n",
       "    <tr>\n",
       "      <th>1</th>\n",
       "      <td>1987-05-21</td>\n",
       "      <td>18.45</td>\n",
       "    </tr>\n",
       "    <tr>\n",
       "      <th>2</th>\n",
       "      <td>1987-05-22</td>\n",
       "      <td>18.55</td>\n",
       "    </tr>\n",
       "    <tr>\n",
       "      <th>3</th>\n",
       "      <td>1987-05-25</td>\n",
       "      <td>18.60</td>\n",
       "    </tr>\n",
       "    <tr>\n",
       "      <th>4</th>\n",
       "      <td>1987-05-26</td>\n",
       "      <td>18.63</td>\n",
       "    </tr>\n",
       "  </tbody>\n",
       "</table>\n",
       "</div>"
      ],
      "text/plain": [
       "         DATE DCOILBRENTEU\n",
       "0  1987-05-20        18.63\n",
       "1  1987-05-21        18.45\n",
       "2  1987-05-22        18.55\n",
       "3  1987-05-25        18.60\n",
       "4  1987-05-26        18.63"
      ]
     },
     "execution_count": 5,
     "metadata": {},
     "output_type": "execute_result"
    }
   ],
   "source": [
    "import pandas as pd\n",
    "\n",
    "df_data_1 = pd.read_csv('DCOILBRENTEU.csv')\n",
    "print(df_data_1.shape)\n",
    "df_data_1.head()"
   ]
  },
  {
   "cell_type": "markdown",
   "metadata": {},
   "source": [
    "Data Source\n",
    "-----------\n",
    "U.S. Energy Information Administration, Crude Oil Prices: Brent - Europe [DCOILBRENTEU], retrieved from FRED, Federal Reserve Bank of St. Louis; https://fred.stlouisfed.org/series/DCOILBRENTEU, January 10, 2018."
   ]
  },
  {
   "cell_type": "code",
   "execution_count": 6,
   "metadata": {},
   "outputs": [
    {
     "name": "stdout",
     "output_type": "stream",
     "text": [
      "(8747, 2)\n"
     ]
    }
   ],
   "source": [
    "df_data_1 = df_data_1[df_data_1.DCOILBRENTEU != \".\"]\n",
    "print(df_data_1.shape)"
   ]
  },
  {
   "cell_type": "code",
   "execution_count": 8,
   "metadata": {},
   "outputs": [
    {
     "data": {
      "image/png": "[encoded data removed]",
      "text/plain": [
       "<Figure size 432x288 with 1 Axes>"
      ]
     },
     "metadata": {
      "needs_background": "light"
     },
     "output_type": "display_data"
    }
   ],
   "source": [
    "import matplotlib.pyplot as plt\n",
    "%matplotlib inline\n",
    "\n",
    "df_data_1_plot = df_data_1.iloc[:, 1:2].values.astype(float)\n",
    "# Visualising the Data\n",
    "plt.plot(df_data_1_plot, color = 'red', label = 'Crude Oil Prices')\n",
    "plt.title('Crude Oil Prices Historical Data')\n",
    "plt.xlabel('Time (Days)')\n",
    "plt.ylabel('Crude Oil Prices')\n",
    "plt.legend()\n",
    "plt.show()"
   ]
  },
  {
   "cell_type": "markdown",
   "metadata": {},
   "source": [
    "Stateful vs. Stateless LSTM\n",
    "--------------------------\n",
    "\n",
    "1. **Stateless**: LSTM updates parameters on **batch 1** and then initiates cell states (meaning - memory, usually with zeros) for **batch 2** \n",
    "2. **Stateful**: it uses batch 1 last output cell sates as initial states for batch 2.\n",
    "\n",
    "When to use which?\n",
    "----------------\n",
    "\n",
    "- When  sequences in batches are related to each other (e.g. prices of one commodity), we should better use **stateful** mode\n",
    "- Else, when one sequence represents a complete sentence, we  should go with **stateless** mode"
   ]
  },
  {
   "cell_type": "markdown",
   "metadata": {},
   "source": [
    "Batch-size: which batch-size to choose?\n",
    "------------------------------------\n",
    "\n",
    "**Very important decision!**\n",
    "\n",
    "Imagine, you must learn to recognize a bird...\n",
    "You are presented images of different birds.\n",
    "\n",
    "What would you prefer:\n",
    "1. To see the one image at a time, make your notes about special bird qualities (set your **weights**) and then see another bird and so on\n",
    "2. **OR** may be you would better learn if you see - let's say 5 - bird images at ones. May be then you can faster notice the bird's intrinsic properties?\n",
    "\n",
    "I'd say - the second method is more efficient for humans. We need more examples of an entitiy, that we have to distinguish. \n",
    "\n",
    "**So the machines! Therefore we select a batch size of 64.\n",
    "Later in programming assigment we will see how the batch size impacts the prediction accuracy.**"
   ]
  },
  {
   "cell_type": "code",
   "execution_count": 9,
   "metadata": {},
   "outputs": [],
   "source": [
    "#import packages\n",
    "import numpy as np\n",
    "from tensorflow.keras.preprocessing import sequence\n",
    "from tensorflow.keras.models import load_model"
   ]
  },
  {
   "cell_type": "code",
   "execution_count": 27,
   "metadata": {},
   "outputs": [],
   "source": [
    "# defining the batch size and number of epochs\n",
    "batch_size = 64\n",
    "epochs = 120 # 1 epoch: a training round\n",
    "timesteps = 10 # LSTM will learn from timesteps in the past, to predict timesteps in the future. Here 1 timestep = 1 day. "
   ]
  },
  {
   "cell_type": "markdown",
   "metadata": {},
   "source": [
    "Batch-size and trainings-set size\n",
    "-------------------------------\n",
    "\n",
    "With **stateful LSTMs** the trainings-set size must be divisible without remainder by the batch-size (modulo = 0)"
   ]
  },
  {
   "cell_type": "code",
   "execution_count": 11,
   "metadata": {},
   "outputs": [
    {
     "name": "stdout",
     "output_type": "stream",
     "text": [
      "8747\n",
      "7872.3\n"
     ]
    }
   ],
   "source": [
    "length = len(df_data_1)\n",
    "print(length)\n",
    "length *= 1 - 0.1\n",
    "print(length)"
   ]
  },
  {
   "cell_type": "code",
   "execution_count": 12,
   "metadata": {},
   "outputs": [
    {
     "data": {
      "text/plain": [
       "0.3000000000001819"
      ]
     },
     "execution_count": 12,
     "metadata": {},
     "output_type": "execute_result"
    }
   ],
   "source": [
    "7872.3 % 64.0"
   ]
  },
  {
   "cell_type": "code",
   "execution_count": 19,
   "metadata": {},
   "outputs": [],
   "source": [
    "def get_train_length(dataset, batch_size, test_percent):\n",
    "    # substract test_percent to be excluded from training, reserved for testset\n",
    "    length = len(dataset)\n",
    "    length *= 1 - test_percent\n",
    "    train_length_values = []\n",
    "    print(length, int(length) - 100, int(length))\n",
    "    for x in range(int(length) - 100, int(length)): \n",
    "        modulo = x % batch_size\n",
    "        if (modulo == 0):\n",
    "            train_length_values.append(x)\n",
    "            print(x)\n",
    "    return (max(train_length_values))"
   ]
  },
  {
   "cell_type": "code",
   "execution_count": 20,
   "metadata": {},
   "outputs": [
    {
     "name": "stdout",
     "output_type": "stream",
     "text": [
      "7872.3 7772 7872\n",
      "7808\n",
      "7808\n"
     ]
    }
   ],
   "source": [
    "length = get_train_length(df_data_1, batch_size, 0.1)\n",
    "print(length)"
   ]
  },
  {
   "cell_type": "code",
   "execution_count": 15,
   "metadata": {
    "scrolled": true
   },
   "outputs": [
    {
     "data": {
      "text/plain": [
       "0.0"
      ]
     },
     "execution_count": 15,
     "metadata": {},
     "output_type": "execute_result"
    }
   ],
   "source": [
    "7808 % 64.0"
   ]
  },
  {
   "cell_type": "markdown",
   "metadata": {},
   "source": [
    "Construct input and output data for LSTM\n",
    "-------------------------------"
   ]
  },
  {
   "cell_type": "code",
   "execution_count": 28,
   "metadata": {},
   "outputs": [
    {
     "name": "stdout",
     "output_type": "stream",
     "text": [
      "(7828, 1)\n",
      "[['18.63']\n",
      " ['18.45']\n",
      " ['18.55']\n",
      " ...\n",
      " ['64.68']\n",
      " ['64.82']\n",
      " ['66.0']]\n"
     ]
    }
   ],
   "source": [
    "#Adding timesteps * 2\n",
    "upper_train = length + timesteps*2\n",
    "df_data_1_train = df_data_1[0:upper_train]\n",
    "training_set = df_data_1_train.iloc[:,1:2].values\n",
    "print(training_set.shape)\n",
    "print(training_set)"
   ]
  },
  {
   "cell_type": "code",
   "execution_count": 29,
   "metadata": {},
   "outputs": [
    {
     "name": "stdout",
     "output_type": "stream",
     "text": [
      "(7828, 1)\n",
      "[[0.07067112]\n",
      " [0.0693363 ]\n",
      " [0.07007786]\n",
      " ...\n",
      " [0.41216166]\n",
      " [0.41319985]\n",
      " [0.42195032]]\n"
     ]
    }
   ],
   "source": [
    "# Feature Scaling\n",
    "# scale between 0 and 1. The weights are easier to find.\n",
    "from sklearn.preprocessing import MinMaxScaler\n",
    "\n",
    "sc = MinMaxScaler(feature_range = (0, 1))\n",
    "training_set_scaled = sc.fit_transform(np.float64(training_set))\n",
    "print(training_set_scaled.shape)\n",
    "print(training_set_scaled)"
   ]
  },
  {
   "cell_type": "code",
   "execution_count": 30,
   "metadata": {},
   "outputs": [
    {
     "name": "stdout",
     "output_type": "stream",
     "text": [
      "7818\n",
      "7808\n",
      "7808\n",
      "[array([0.07067112, 0.0693363 , 0.07007786, 0.07044865, 0.07067112,\n",
      "       0.07044865, 0.07044865, 0.07030033, 0.07081943, 0.0710419 ]), array([0.0693363 , 0.07007786, 0.07044865, 0.07067112, 0.07044865,\n",
      "       0.07044865, 0.07030033, 0.07081943, 0.0710419 , 0.07156099])]\n",
      "(7808, 10)\n",
      "[array([0.07156099, 0.07178346, 0.07081943, 0.07156099, 0.07178346,\n",
      "       0.07178346, 0.0710419 , 0.07178346, 0.07267334, 0.07363737]), array([0.07178346, 0.07081943, 0.07156099, 0.07178346, 0.07178346,\n",
      "       0.0710419 , 0.07178346, 0.07267334, 0.07363737, 0.07378569])]\n",
      "(7808, 10)\n"
     ]
    }
   ],
   "source": [
    "X_train = []\n",
    "y_train = []\n",
    "\n",
    "# Creating a data structure with n timesteps\n",
    "\n",
    "print(length + timesteps)\n",
    "for i in range(timesteps, length + timesteps): \n",
    "    X_train.append(training_set_scaled[i-timesteps:i,0])\n",
    "    y_train.append(training_set_scaled[i:i+timesteps,0])\n",
    "\n",
    "print(len(X_train))\n",
    "print(len(y_train))\n",
    "#create X_train matrix\n",
    "#30 items per array (timestep) \n",
    "print(X_train[0:2])\n",
    "print(np.array(X_train).shape)\n",
    "#create Y_train matrix\n",
    "#30 items per array (timestep) \n",
    "print(y_train[0:2])\n",
    "print(np.array(y_train).shape)"
   ]
  },
  {
   "cell_type": "code",
   "execution_count": 31,
   "metadata": {},
   "outputs": [
    {
     "name": "stdout",
     "output_type": "stream",
     "text": [
      "(7808, 10, 1)\n",
      "(7808, 10, 1)\n"
     ]
    }
   ],
   "source": [
    "# Reshaping\n",
    "X_train, y_train = np.array(X_train), np.array(y_train)\n",
    "X_train = np.reshape(X_train, (X_train.shape[0], X_train.shape[1], 1)) # shape: (length, timesteps, features)\n",
    "y_train = np.reshape(y_train, (y_train.shape[0], y_train.shape[1], 1))\n",
    "print(X_train.shape)\n",
    "print(y_train.shape)"
   ]
  },
  {
   "cell_type": "code",
   "execution_count": 32,
   "metadata": {},
   "outputs": [],
   "source": [
    "# Building the LSTM\n",
    "# Importing the Keras libraries and packages\n",
    "\n",
    "from tensorflow.keras.layers import Dense, Input, LSTM\n",
    "from tensorflow.keras.models import Model\n",
    "import h5py"
   ]
  },
  {
   "cell_type": "code",
   "execution_count": 35,
   "metadata": {},
   "outputs": [
    {
     "name": "stdout",
     "output_type": "stream",
     "text": [
      "Model: \"model\"\n",
      "_________________________________________________________________\n",
      "Layer (type)                 Output Shape              Param #   \n",
      "=================================================================\n",
      "input_1 (InputLayer)         [(64, 10, 1)]             0         \n",
      "_________________________________________________________________\n",
      "lstm (LSTM)                  (64, 10, 10)              480       \n",
      "_________________________________________________________________\n",
      "lstm_1 (LSTM)                (64, 10, 10)              840       \n",
      "_________________________________________________________________\n",
      "dense (Dense)                (64, 10, 1)               11        \n",
      "=================================================================\n",
      "Total params: 1,331\n",
      "Trainable params: 1,331\n",
      "Non-trainable params: 0\n",
      "_________________________________________________________________\n"
     ]
    }
   ],
   "source": [
    "# Initialising the LSTM Model with MAE Loss-Function\n",
    "# Using Functional API\n",
    "\n",
    "inputs_1_mae = Input(batch_shape = (batch_size, timesteps, 1)) # 1 feature (dimension): crude oil price\n",
    "#each layer is the input of the next layer\n",
    "lstm_1_mae = LSTM(10, stateful=True, return_sequences=True)(inputs_1_mae)\n",
    "lstm_2_mae = LSTM(10, stateful=True, return_sequences=True)(lstm_1_mae)\n",
    "\n",
    "output_1_mae = Dense(units=1)(lstm_2_mae)\n",
    "\n",
    "regressor_mae = Model(inputs=inputs_1_mae, outputs=output_1_mae)\n",
    "\n",
    "#adam is fast starting off and then gets slower and more precise\n",
    "#mae -> mean absolute error loss function\n",
    "regressor_mae.compile(optimizer='adam', loss = 'mae')\n",
    "regressor_mae.summary()"
   ]
  },
  {
   "cell_type": "code",
   "execution_count": null,
   "metadata": {},
   "outputs": [],
   "source": [
    "# #some learners constantly reported 502 errors in Watson Studio. \n",
    "# #This is due to the limited resources in the free tier and the heavy resource consumption of Keras.\n",
    "# #This is a workaround to limit resource consumption\n",
    "\n",
    "# from keras import backend as K\n",
    "\n",
    "# K.set_session(K.tf.Session(config=K.tf.ConfigProto(intra_op_parallelism_threads=1, inter_op_parallelism_threads=1)))\n"
   ]
  },
  {
   "cell_type": "markdown",
   "metadata": {},
   "source": [
    "How LSTM Param Number is computed?\n",
    "--------------------------------\n",
    "\n",
    "1. To decide how to handle the memory each LSTM Cell has <bold>3 Gates</bold>:\n",
    "    - input (what to let in), \n",
    "    - forget (what to forget) and \n",
    "    - output (what to write to the output)\n",
    "2. LSTM **Cell State** is its **memory**\n",
    "3. LSTM Hidden State is equivalent to the Cell output:\n",
    "    - lstm_hidden_state_size (number of neurons = memory cells) = lstm_outputs_size\n",
    "4. Parameters:\n",
    "    - weights for the inputs (lstm_inputs_size)\n",
    "    - weights for the outputs (lstm_outputs_size)\n",
    "    - bias variable\n",
    "5.  Result from previous point - for all 3 Gates and for Cell State ( = 4)  \n",
    "   \n",
    "    \\begin{equation}\n",
    "          \\textbf{PARAMETERS} = \\textbf4 \\times \\textbf{ LSTM outputs size} \\times (\\textbf{weights LSTM inputs size} + \\textbf{weights LSTM outputs size} + 1 \\textbf{ bias variable})\n",
    "    \\end{equation}\n",
    "    "
   ]
  },
  {
   "cell_type": "code",
   "execution_count": 36,
   "metadata": {},
   "outputs": [
    {
     "name": "stdout",
     "output_type": "stream",
     "text": [
      "480\n"
     ]
    }
   ],
   "source": [
    "# 1st LSTM Layer\n",
    "parameters = 4 * 10 * (1 + 10 + 1)\n",
    "print(parameters)"
   ]
  },
  {
   "cell_type": "code",
   "execution_count": 37,
   "metadata": {},
   "outputs": [
    {
     "name": "stdout",
     "output_type": "stream",
     "text": [
      "840\n"
     ]
    }
   ],
   "source": [
    "# 2nd LSTM Layer\n",
    "parameters = 4 * 10 * (10 + 10 + 1)\n",
    "print(parameters)"
   ]
  },
  {
   "cell_type": "code",
   "execution_count": 38,
   "metadata": {},
   "outputs": [
    {
     "name": "stdout",
     "output_type": "stream",
     "text": [
      "Epoch: 0\n",
      "122/122 [==============================] - 1s 6ms/step - loss: 0.0448\n",
      "Epoch: 1\n",
      "122/122 [==============================] - 1s 6ms/step - loss: 0.0477\n",
      "Epoch: 2\n",
      "122/122 [==============================] - 1s 6ms/step - loss: 0.0434\n",
      "Epoch: 3\n",
      "122/122 [==============================] - 1s 5ms/step - loss: 0.0433\n",
      "Epoch: 4\n",
      "122/122 [==============================] - 1s 6ms/step - loss: 0.0441\n",
      "Epoch: 5\n",
      "122/122 [==============================] - 1s 6ms/step - loss: 0.0462\n",
      "Epoch: 6\n",
      "122/122 [==============================] - 1s 6ms/step - loss: 0.0478\n",
      "Epoch: 7\n",
      "122/122 [==============================] - 1s 6ms/step - loss: 0.0482\n",
      "Epoch: 8\n",
      "122/122 [==============================] - 1s 6ms/step - loss: 0.0481\n",
      "Epoch: 9\n",
      "122/122 [==============================] - 1s 6ms/step - loss: 0.0478\n",
      "Epoch: 10\n",
      "122/122 [==============================] - 1s 6ms/step - loss: 0.0471\n",
      "Epoch: 11\n",
      "122/122 [==============================] - 1s 5ms/step - loss: 0.0466\n",
      "Epoch: 12\n",
      "122/122 [==============================] - 1s 5ms/step - loss: 0.0458\n",
      "Epoch: 13\n",
      "122/122 [==============================] - 1s 5ms/step - loss: 0.0449\n",
      "Epoch: 14\n",
      "122/122 [==============================] - 1s 5ms/step - loss: 0.0438\n",
      "Epoch: 15\n",
      "122/122 [==============================] - 1s 6ms/step - loss: 0.0425\n",
      "Epoch: 16\n",
      "122/122 [==============================] - 1s 5ms/step - loss: 0.0413\n",
      "Epoch: 17\n",
      "122/122 [==============================] - 1s 5ms/step - loss: 0.0398\n",
      "Epoch: 18\n",
      "122/122 [==============================] - 1s 6ms/step - loss: 0.0391\n",
      "Epoch: 19\n",
      "122/122 [==============================] - 1s 5ms/step - loss: 0.0379\n",
      "Epoch: 20\n",
      "122/122 [==============================] - 1s 6ms/step - loss: 0.0371\n",
      "Epoch: 21\n",
      "122/122 [==============================] - 1s 6ms/step - loss: 0.0362\n",
      "Epoch: 22\n",
      "122/122 [==============================] - 1s 6ms/step - loss: 0.0354\n",
      "Epoch: 23\n",
      "122/122 [==============================] - 1s 5ms/step - loss: 0.0347\n",
      "Epoch: 24\n",
      "122/122 [==============================] - 1s 6ms/step - loss: 0.0341\n",
      "Epoch: 25\n",
      "122/122 [==============================] - 1s 6ms/step - loss: 0.0335\n",
      "Epoch: 26\n",
      "122/122 [==============================] - 1s 5ms/step - loss: 0.0331\n",
      "Epoch: 27\n",
      "122/122 [==============================] - 1s 5ms/step - loss: 0.0325\n",
      "Epoch: 28\n",
      "122/122 [==============================] - 1s 5ms/step - loss: 0.0320\n",
      "Epoch: 29\n",
      "122/122 [==============================] - 1s 5ms/step - loss: 0.0314\n",
      "Epoch: 30\n",
      "122/122 [==============================] - 1s 5ms/step - loss: 0.0309\n",
      "Epoch: 31\n",
      "122/122 [==============================] - 1s 5ms/step - loss: 0.0305\n",
      "Epoch: 32\n",
      "122/122 [==============================] - 1s 5ms/step - loss: 0.0300\n",
      "Epoch: 33\n",
      "122/122 [==============================] - 1s 5ms/step - loss: 0.0295\n",
      "Epoch: 34\n",
      "122/122 [==============================] - 1s 5ms/step - loss: 0.0290\n",
      "Epoch: 35\n",
      "122/122 [==============================] - 1s 5ms/step - loss: 0.0285\n",
      "Epoch: 36\n",
      "122/122 [==============================] - 1s 5ms/step - loss: 0.0282\n",
      "Epoch: 37\n",
      "122/122 [==============================] - 1s 5ms/step - loss: 0.0276\n",
      "Epoch: 38\n",
      "122/122 [==============================] - 1s 5ms/step - loss: 0.0273\n",
      "Epoch: 39\n",
      "122/122 [==============================] - 1s 5ms/step - loss: 0.0267\n",
      "Epoch: 40\n",
      "122/122 [==============================] - 1s 6ms/step - loss: 0.0264\n",
      "Epoch: 41\n",
      "122/122 [==============================] - 1s 6ms/step - loss: 0.0258\n",
      "Epoch: 42\n",
      "122/122 [==============================] - 1s 6ms/step - loss: 0.0255\n",
      "Epoch: 43\n",
      "122/122 [==============================] - 1s 6ms/step - loss: 0.0251\n",
      "Epoch: 44\n",
      "122/122 [==============================] - 1s 6ms/step - loss: 0.0247\n",
      "Epoch: 45\n",
      "122/122 [==============================] - 1s 5ms/step - loss: 0.0243\n",
      "Epoch: 46\n",
      "122/122 [==============================] - 1s 5ms/step - loss: 0.0240\n",
      "Epoch: 47\n",
      "122/122 [==============================] - 1s 5ms/step - loss: 0.0237\n",
      "Epoch: 48\n",
      "122/122 [==============================] - 1s 5ms/step - loss: 0.0234\n",
      "Epoch: 49\n",
      "122/122 [==============================] - 1s 5ms/step - loss: 0.0233\n",
      "Epoch: 50\n",
      "122/122 [==============================] - 1s 6ms/step - loss: 0.0231\n",
      "Epoch: 51\n",
      "122/122 [==============================] - 1s 6ms/step - loss: 0.0231\n",
      "Epoch: 52\n",
      "122/122 [==============================] - 1s 5ms/step - loss: 0.0230\n",
      "Epoch: 53\n",
      "122/122 [==============================] - 1s 5ms/step - loss: 0.0229\n",
      "Epoch: 54\n",
      "122/122 [==============================] - 1s 5ms/step - loss: 0.0228\n",
      "Epoch: 55\n",
      "122/122 [==============================] - 1s 5ms/step - loss: 0.0229\n",
      "Epoch: 56\n",
      "122/122 [==============================] - 1s 6ms/step - loss: 0.0226\n",
      "Epoch: 57\n",
      "122/122 [==============================] - 1s 5ms/step - loss: 0.0228\n",
      "Epoch: 58\n",
      "122/122 [==============================] - 1s 6ms/step - loss: 0.0225\n",
      "Epoch: 59\n",
      "122/122 [==============================] - 1s 5ms/step - loss: 0.0227\n",
      "Epoch: 60\n",
      "122/122 [==============================] - 1s 5ms/step - loss: 0.0226\n",
      "Epoch: 61\n",
      "122/122 [==============================] - 1s 6ms/step - loss: 0.0227\n",
      "Epoch: 62\n",
      "122/122 [==============================] - 1s 6ms/step - loss: 0.0228\n",
      "Epoch: 63\n",
      "122/122 [==============================] - 1s 6ms/step - loss: 0.0231\n",
      "Epoch: 64\n",
      "122/122 [==============================] - 1s 5ms/step - loss: 0.0230\n",
      "Epoch: 65\n",
      "122/122 [==============================] - 1s 5ms/step - loss: 0.0237\n",
      "Epoch: 66\n",
      "122/122 [==============================] - 1s 5ms/step - loss: 0.0250\n",
      "Epoch: 67\n",
      "122/122 [==============================] - 1s 5ms/step - loss: 0.0218\n",
      "Epoch: 68\n",
      "122/122 [==============================] - 1s 6ms/step - loss: 0.0230\n",
      "Epoch: 69\n",
      "122/122 [==============================] - 1s 6ms/step - loss: 0.0201\n",
      "Epoch: 70\n",
      "122/122 [==============================] - 1s 5ms/step - loss: 0.0206\n",
      "Epoch: 71\n",
      "122/122 [==============================] - 1s 6ms/step - loss: 0.0210\n",
      "Epoch: 72\n",
      "122/122 [==============================] - 1s 5ms/step - loss: 0.0212\n",
      "Epoch: 73\n",
      "122/122 [==============================] - 1s 5ms/step - loss: 0.0214\n",
      "Epoch: 74\n",
      "122/122 [==============================] - 1s 5ms/step - loss: 0.0216\n",
      "Epoch: 75\n",
      "122/122 [==============================] - 1s 5ms/step - loss: 0.0221\n",
      "Epoch: 76\n",
      "122/122 [==============================] - 1s 6ms/step - loss: 0.0224\n",
      "Epoch: 77\n",
      "122/122 [==============================] - 1s 5ms/step - loss: 0.0229\n",
      "Epoch: 78\n",
      "122/122 [==============================] - 1s 5ms/step - loss: 0.0240\n",
      "Epoch: 79\n",
      "122/122 [==============================] - 1s 5ms/step - loss: 0.0240\n",
      "Epoch: 80\n",
      "122/122 [==============================] - 1s 5ms/step - loss: 0.0236\n",
      "Epoch: 81\n",
      "122/122 [==============================] - 1s 5ms/step - loss: 0.0251\n",
      "Epoch: 82\n",
      "122/122 [==============================] - 1s 5ms/step - loss: 0.0230\n",
      "Epoch: 83\n",
      "122/122 [==============================] - 1s 5ms/step - loss: 0.0234\n",
      "Epoch: 84\n",
      "122/122 [==============================] - 1s 5ms/step - loss: 0.0237\n",
      "Epoch: 85\n",
      "122/122 [==============================] - 1s 5ms/step - loss: 0.0228\n",
      "Epoch: 86\n",
      "122/122 [==============================] - 1s 5ms/step - loss: 0.0234\n",
      "Epoch: 87\n",
      "122/122 [==============================] - 1s 5ms/step - loss: 0.0232\n",
      "Epoch: 88\n",
      "122/122 [==============================] - 1s 5ms/step - loss: 0.0234\n",
      "Epoch: 89\n",
      "122/122 [==============================] - 1s 5ms/step - loss: 0.0234\n",
      "Epoch: 90\n",
      "122/122 [==============================] - 1s 5ms/step - loss: 0.0229\n",
      "Epoch: 91\n",
      "122/122 [==============================] - 1s 5ms/step - loss: 0.0228\n",
      "Epoch: 92\n",
      "122/122 [==============================] - 1s 5ms/step - loss: 0.0221\n",
      "Epoch: 93\n",
      "122/122 [==============================] - 1s 5ms/step - loss: 0.0220\n",
      "Epoch: 94\n",
      "122/122 [==============================] - 1s 5ms/step - loss: 0.0213\n",
      "Epoch: 95\n",
      "122/122 [==============================] - 1s 6ms/step - loss: 0.0217\n",
      "Epoch: 96\n",
      "122/122 [==============================] - 1s 5ms/step - loss: 0.0213\n",
      "Epoch: 97\n",
      "122/122 [==============================] - 1s 5ms/step - loss: 0.0217\n",
      "Epoch: 98\n",
      "122/122 [==============================] - 1s 5ms/step - loss: 0.0214\n",
      "Epoch: 99\n",
      "122/122 [==============================] - 1s 5ms/step - loss: 0.0219\n",
      "Epoch: 100\n",
      "122/122 [==============================] - 1s 5ms/step - loss: 0.0216\n",
      "Epoch: 101\n",
      "122/122 [==============================] - 1s 5ms/step - loss: 0.0219\n",
      "Epoch: 102\n"
     ]
    },
    {
     "name": "stdout",
     "output_type": "stream",
     "text": [
      "122/122 [==============================] - 1s 5ms/step - loss: 0.0222\n",
      "Epoch: 103\n",
      "122/122 [==============================] - 1s 5ms/step - loss: 0.0217\n",
      "Epoch: 104\n",
      "122/122 [==============================] - 1s 5ms/step - loss: 0.0224\n",
      "Epoch: 105\n",
      "122/122 [==============================] - 1s 5ms/step - loss: 0.0216\n",
      "Epoch: 106\n",
      "122/122 [==============================] - 1s 5ms/step - loss: 0.0221\n",
      "Epoch: 107\n",
      "122/122 [==============================] - 1s 5ms/step - loss: 0.0212\n",
      "Epoch: 108\n",
      "122/122 [==============================] - 1s 5ms/step - loss: 0.0215\n",
      "Epoch: 109\n",
      "122/122 [==============================] - 1s 5ms/step - loss: 0.0211\n",
      "Epoch: 110\n",
      "122/122 [==============================] - 1s 5ms/step - loss: 0.0215\n",
      "Epoch: 111\n",
      "122/122 [==============================] - 1s 5ms/step - loss: 0.0212\n",
      "Epoch: 112\n",
      "122/122 [==============================] - 1s 5ms/step - loss: 0.0216\n",
      "Epoch: 113\n",
      "122/122 [==============================] - 1s 5ms/step - loss: 0.0214\n",
      "Epoch: 114\n",
      "122/122 [==============================] - 1s 5ms/step - loss: 0.0217\n",
      "Epoch: 115\n",
      "122/122 [==============================] - 1s 5ms/step - loss: 0.0215\n",
      "Epoch: 116\n",
      "122/122 [==============================] - 1s 5ms/step - loss: 0.0218\n",
      "Epoch: 117\n",
      "122/122 [==============================] - 1s 5ms/step - loss: 0.0217\n",
      "Epoch: 118\n",
      "122/122 [==============================] - 1s 5ms/step - loss: 0.0218\n",
      "Epoch: 119\n",
      "122/122 [==============================] - 1s 5ms/step - loss: 0.0220\n"
     ]
    }
   ],
   "source": [
    "#Statefull\n",
    "for i in range(epochs):\n",
    "    print(\"Epoch: \" + str(i))\n",
    "    #run through all data but the cell, hidden state are used for the next batch.\n",
    "    regressor_mae.fit(X_train, y_train, shuffle=False, epochs = 1, batch_size = batch_size)\n",
    "    #resets only the states but the weights, cell and hidden are kept.\n",
    "    regressor_mae.reset_states()\n",
    "    \n",
    "#Stateless\n",
    "#between the batches the cell and hidden states are lost.\n",
    "#regressor_mae.fit(X_train, y_train, shuffle=False, epochs = epochs, batch_size = batch_size)"
   ]
  },
  {
   "cell_type": "code",
   "execution_count": 39,
   "metadata": {},
   "outputs": [],
   "source": [
    "#save model\n",
    "regressor_mae.save(filepath=\"my_model_with_mae_timesteps_10.h5\")"
   ]
  },
  {
   "cell_type": "code",
   "execution_count": 40,
   "metadata": {},
   "outputs": [],
   "source": [
    "#load model\n",
    "import h5py\n",
    "regressor_mae = load_model(filepath=\"my_model_with_mae_timesteps_10.h5\")"
   ]
  },
  {
   "cell_type": "code",
   "execution_count": 41,
   "metadata": {},
   "outputs": [
    {
     "name": "stdout",
     "output_type": "stream",
     "text": [
      "Model: \"model\"\n",
      "_________________________________________________________________\n",
      "Layer (type)                 Output Shape              Param #   \n",
      "=================================================================\n",
      "input_1 (InputLayer)         [(64, 10, 1)]             0         \n",
      "_________________________________________________________________\n",
      "lstm (LSTM)                  (64, 10, 10)              480       \n",
      "_________________________________________________________________\n",
      "lstm_1 (LSTM)                (64, 10, 10)              840       \n",
      "_________________________________________________________________\n",
      "dense (Dense)                (64, 10, 1)               11        \n",
      "=================================================================\n",
      "Total params: 1,331\n",
      "Trainable params: 1,331\n",
      "Non-trainable params: 0\n",
      "_________________________________________________________________\n"
     ]
    }
   ],
   "source": [
    "regressor_mae.summary()"
   ]
  }
 ],
 "metadata": {
  "kernelspec": {
   "display_name": "Python 3",
   "language": "python",
   "name": "python3"
  },
  "language_info": {
   "codemirror_mode": {
    "name": "ipython",
    "version": 3
   },
   "file_extension": ".py",
   "mimetype": "text/x-python",
   "name": "python",
   "nbconvert_exporter": "python",
   "pygments_lexer": "ipython3",
   "version": "3.6.13"
  }
 },
 "nbformat": 4,
 "nbformat_minor": 1
}
